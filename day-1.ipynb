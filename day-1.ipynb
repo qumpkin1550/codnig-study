{
 "cells": [
  {
   "cell_type": "code",
   "execution_count": 2,
   "id": "7b805a23",
   "metadata": {},
   "outputs": [
    {
     "name": "stdout",
     "output_type": "stream",
     "text": [
      "['False', 'None', 'True', '__peg_parser__', 'and', 'as', 'assert', 'async', 'await', 'break', 'class', 'continue', 'def', 'del', 'elif', 'else', 'except', 'finally', 'for', 'from', 'global', 'if', 'import', 'in', 'is', 'lambda', 'nonlocal', 'not', 'or', 'pass', 'raise', 'return', 'try', 'while', 'with', 'yield']\n"
     ]
    }
   ],
   "source": [
    "# 키워드 확인\n",
    "import keyword\n",
    "\n",
    "print(keyword.kwlist)"
   ]
  },
  {
   "cell_type": "code",
   "execution_count": 14,
   "id": "b773ea14",
   "metadata": {},
   "outputs": [
    {
     "name": "stdout",
     "output_type": "stream",
     "text": [
      "테스트\n"
     ]
    }
   ],
   "source": [
    "print(\"테스트\")  # 하나의 문자열 출력"
   ]
  },
  {
   "cell_type": "code",
   "execution_count": 15,
   "id": "2c534da5",
   "metadata": {},
   "outputs": [
    {
     "name": "stdout",
     "output_type": "stream",
     "text": [
      "test 10 20 + 30 =  50\n"
     ]
    }
   ],
   "source": [
    "print(\"test\", 10, '20 + 30 = ', 20 +30)"
   ]
  },
  {
   "cell_type": "code",
   "execution_count": 17,
   "id": "084d43c1",
   "metadata": {},
   "outputs": [
    {
     "name": "stdout",
     "output_type": "stream",
     "text": [
      "test\t10\t20 + 30 = \t50\n",
      "abcd\n"
     ]
    }
   ],
   "source": [
    "print(\"test\", 10, '20 + 30 = ', 20 +30, sep='\\t')\n",
    "print('abcd')"
   ]
  },
  {
   "cell_type": "code",
   "execution_count": 18,
   "id": "1e39635b",
   "metadata": {},
   "outputs": [
    {
     "name": "stdout",
     "output_type": "stream",
     "text": [
      "test\t10\t20 + 30 = \t50#### abcd\n"
     ]
    }
   ],
   "source": [
    "print(\"test\", 10, '20 + 30 = ', 20 +30, sep='\\t', end='#### ')\n",
    "print('abcd')"
   ]
  },
  {
   "cell_type": "code",
   "execution_count": 19,
   "id": "bd05c695",
   "metadata": {},
   "outputs": [
    {
     "name": "stdout",
     "output_type": "stream",
     "text": [
      "test 10 20 + 30 =  50\n",
      "테스트\n"
     ]
    }
   ],
   "source": [
    "print(\"test\", 10, '20 + 30 = ', 20 +30)\n",
    "print(\"테스트\") "
   ]
  },
  {
   "cell_type": "code",
   "execution_count": 21,
   "id": "aec4f9c6",
   "metadata": {},
   "outputs": [
    {
     "name": "stdout",
     "output_type": "stream",
     "text": [
      "\n"
     ]
    }
   ],
   "source": [
    "# 키워드 import keyword -> keyword.keylist 에서 확인\n",
    "# 식별자 : 문자 시작, _ 가능, 숫자 시작 안됨, 공백 안됨 , 키워드 안됨\n",
    "# 식별자를 작성 규칙 : 캐멀(클래스), 스네이크(변수, 함수), 함수는 ()"
   ]
  },
  {
   "cell_type": "markdown",
   "id": "969c1aff",
   "metadata": {},
   "source": [
    "## chapter 02 자료형\n",
    "### 01 . 자료형과 문자열"
   ]
  },
  {
   "cell_type": "code",
   "execution_count": 25,
   "id": "041c743e",
   "metadata": {},
   "outputs": [
    {
     "name": "stdout",
     "output_type": "stream",
     "text": [
      "문자열의 데이터 타입 :  <class 'str'>\n",
      "숫자의 데이터 타입 :  <class 'int'> <class 'float'>\n",
      "불리언의 데이터 타입 :  <class 'bool'>\n"
     ]
    }
   ],
   "source": [
    "# python의 자료형은 : 문자열, 숫자, 불 타입으로 세가지만 존재\n",
    "print('문자열의 데이터 타입 : ', type('문자열'))\n",
    "print('숫자의 데이터 타입 : ', type(10), type(10.4))\n",
    "print('불리언의 데이터 타입 : ', type(True))"
   ]
  },
  {
   "cell_type": "code",
   "execution_count": 26,
   "id": "8da55fdf",
   "metadata": {},
   "outputs": [
    {
     "name": "stdout",
     "output_type": "stream",
     "text": [
      "\" 안녕하세요 !! \" \n"
     ]
    }
   ],
   "source": [
    "print('\" 안녕하세요 !! \" ')  # 문자열은 \" \" 또는 ' '"
   ]
  },
  {
   "cell_type": "code",
   "execution_count": 28,
   "id": "6cf8e85a",
   "metadata": {},
   "outputs": [
    {
     "name": "stdout",
     "output_type": "stream",
     "text": [
      "\" 안녕하세요 !! \" \n",
      "\\ \\ \\ \n"
     ]
    }
   ],
   "source": [
    "#  이스케이프 문자를 활용하여 문자열 만들기  : \\\" -> 일반 문자 \"\n",
    "# \\t : 탭, \\n : 뉴라인\n",
    "print(\"\\\" 안녕하세요 !! \\\" \")\n",
    "print(\"\\\\ \\\\ \\\\ \")"
   ]
  },
  {
   "cell_type": "code",
   "execution_count": 32,
   "id": "cb367adc",
   "metadata": {},
   "outputs": [
    {
     "name": "stdout",
     "output_type": "stream",
     "text": [
      "1라인\n",
      "2라인\n",
      "\n",
      "1라인\n",
      "2라인\n"
     ]
    }
   ],
   "source": [
    "# 여러 라인의 문자를 출력하기\n",
    "print(\"1라인\\n2라인\")\n",
    "print()\n",
    "print('''\\\n",
    "1라인\n",
    "2라인''')"
   ]
  },
  {
   "cell_type": "code",
   "execution_count": 37,
   "id": "c2eded33",
   "metadata": {},
   "outputs": [
    {
     "name": "stdout",
     "output_type": "stream",
     "text": [
      " 안녕하세요 !!       \n"
     ]
    }
   ],
   "source": [
    "#  명령어가 1라인 이상으로 길어질 때 \\\n",
    "print(\" 안녕하세요 !! \\\n",
    "      \")"
   ]
  },
  {
   "cell_type": "code",
   "execution_count": 39,
   "id": "74f7e107",
   "metadata": {},
   "outputs": [
    {
     "name": "stdout",
     "output_type": "stream",
     "text": [
      "aaa 10\n"
     ]
    }
   ],
   "source": [
    "print(\"aaa\", \\\n",
    "     10)"
   ]
  },
  {
   "cell_type": "code",
   "execution_count": 1,
   "id": "e6afa667",
   "metadata": {},
   "outputs": [
    {
     "data": {
      "text/plain": [
       "'abcd abcd abcd '"
      ]
     },
     "execution_count": 1,
     "metadata": {},
     "output_type": "execute_result"
    }
   ],
   "source": [
    "# 문자열 연산자, 문자열 자르기, 문자열 길이 구하기\n",
    "# 문자열 + 문자열 -> 이어 붙이기\n",
    "# 문자열 * 숫자 -> 문자열을 숫자만큼 반복\n",
    "'abcd ' * 3"
   ]
  },
  {
   "cell_type": "code",
   "execution_count": 5,
   "id": "2e8d8088",
   "metadata": {},
   "outputs": [
    {
     "name": "stdout",
     "output_type": "stream",
     "text": [
      "5\n",
      "안 요\n",
      "안녕\n",
      "녕하\n",
      "세요\n"
     ]
    }
   ],
   "source": [
    "# 문자열 자르기 : 문자열[시작인덱스 : 마지막인덱스 ] \n",
    "# -> 시작은 포함, 마지막은 포함하지 않음\n",
    "hello = '안녕하세요'\n",
    "\n",
    "# 전체 문자열의 길이 구하는 함수 : len(hello)\n",
    "print(len(hello))\n",
    "\n",
    "# 처음 문자와 마지막 문자 출력\n",
    "print(hello[0], hello[-1])\n",
    "\n",
    "# 처음부터 두 글자만 출력\n",
    "print(hello[ : 2])\n",
    "\n",
    "# 두번째 문자와 3번째 문자 출력\n",
    "print(hello[1:3])\n",
    "\n",
    "# 세번째 문자부터 끝까지 출력\n",
    "print(hello[3: ])"
   ]
  },
  {
   "cell_type": "code",
   "execution_count": 6,
   "id": "cf61f713",
   "metadata": {},
   "outputs": [
    {
     "name": "stdout",
     "output_type": "stream",
     "text": [
      "요\n"
     ]
    }
   ],
   "source": [
    "# 문자열의 길이를 구해서 마지막 문자 출력\n",
    "print(hello[len(hello) - 1])"
   ]
  },
  {
   "cell_type": "markdown",
   "id": "4767cea2",
   "metadata": {},
   "source": [
    "### 02. 숫자 "
   ]
  },
  {
   "cell_type": "code",
   "execution_count": 8,
   "id": "146da7ee",
   "metadata": {},
   "outputs": [
    {
     "name": "stdout",
     "output_type": "stream",
     "text": [
      "3test\n"
     ]
    }
   ],
   "source": [
    "# +, -, *, / , //(몫), %(나머지), ** (거듭제곱)\n",
    "print('3' + 'test')  # ok\n",
    "# print( 3 + 'test')  # error"
   ]
  },
  {
   "cell_type": "markdown",
   "id": "1cbfd6eb",
   "metadata": {},
   "source": [
    "### 3. 변수의 활용"
   ]
  },
  {
   "cell_type": "code",
   "execution_count": 11,
   "id": "8c9cc99f",
   "metadata": {},
   "outputs": [
    {
     "data": {
      "text/plain": [
       "20"
      ]
     },
     "execution_count": 11,
     "metadata": {},
     "output_type": "execute_result"
    }
   ],
   "source": [
    "var_a = 10\n",
    "var_a\n",
    "\n",
    "var_b = 20\n",
    "var_b"
   ]
  },
  {
   "cell_type": "code",
   "execution_count": 12,
   "id": "dba8e5ae",
   "metadata": {},
   "outputs": [
    {
     "data": {
      "text/plain": [
       "30"
      ]
     },
     "execution_count": 12,
     "metadata": {},
     "output_type": "execute_result"
    }
   ],
   "source": [
    "var_a + var_b"
   ]
  },
  {
   "cell_type": "code",
   "execution_count": 14,
   "id": "479e0c78",
   "metadata": {},
   "outputs": [
    {
     "name": "stdout",
     "output_type": "stream",
     "text": [
      "10 20\n"
     ]
    },
    {
     "data": {
      "text/plain": [
       "'안녕하세요'"
      ]
     },
     "execution_count": 14,
     "metadata": {},
     "output_type": "execute_result"
    }
   ],
   "source": [
    "print(var_a, var_b)\n",
    "hello"
   ]
  },
  {
   "cell_type": "code",
   "execution_count": 15,
   "id": "2053e33c",
   "metadata": {},
   "outputs": [
    {
     "data": {
      "text/plain": [
       "'str variable'"
      ]
     },
     "execution_count": 15,
     "metadata": {},
     "output_type": "execute_result"
    }
   ],
   "source": [
    "var_a = 'str variable'\n",
    "var_a"
   ]
  },
  {
   "cell_type": "code",
   "execution_count": 22,
   "id": "19c51652",
   "metadata": {},
   "outputs": [
    {
     "name": "stdout",
     "output_type": "stream",
     "text": [
      "20\n",
      "200\n",
      "13.333333333333334\n",
      "test !! \n",
      "test !! test !! \n"
     ]
    }
   ],
   "source": [
    "# 복합 대입 연산자  : 변수  사칙연산=   값\n",
    "a = 10\n",
    "a += 10 \n",
    "print(a)  # a -> 20\n",
    "a *= 10   # a -> 200\n",
    "print(a)\n",
    "a /= 15   # 13.  \n",
    "print(a)\n",
    "\n",
    "# 문자열 복합연산자\n",
    "a_str = 'test '\n",
    "a_str += '!! '\n",
    "print(a_str)\n",
    "\n",
    "a_str *= 2\n",
    "print(a_str)"
   ]
  },
  {
   "cell_type": "code",
   "execution_count": 28,
   "id": "fac3c4c2",
   "metadata": {},
   "outputs": [
    {
     "name": "stdout",
     "output_type": "stream",
     "text": [
      "문자 입력hello python\n"
     ]
    },
    {
     "data": {
      "text/plain": [
       "'hello python'"
      ]
     },
     "execution_count": 28,
     "metadata": {},
     "output_type": "execute_result"
    }
   ],
   "source": [
    "# input()  -> 사용자가 입력하는 함수\n",
    "input_str = input(\"문자 입력\")\n",
    "input_str"
   ]
  },
  {
   "cell_type": "code",
   "execution_count": 30,
   "id": "6196edd2",
   "metadata": {},
   "outputs": [
    {
     "data": {
      "text/plain": [
       "str"
      ]
     },
     "execution_count": 30,
     "metadata": {},
     "output_type": "execute_result"
    }
   ],
   "source": [
    "type(input_str)"
   ]
  },
  {
   "cell_type": "code",
   "execution_count": 33,
   "id": "7d1813cb",
   "metadata": {},
   "outputs": [
    {
     "name": "stdout",
     "output_type": "stream",
     "text": [
      "숫자 입력 :34.78\n"
     ]
    },
    {
     "data": {
      "text/plain": [
       "str"
      ]
     },
     "execution_count": 33,
     "metadata": {},
     "output_type": "execute_result"
    }
   ],
   "source": [
    "# 숫자를 입력해서 변수에 저장 후 변수의 데이터 타입을 확인해 보세요\n",
    "input_data = input(\"숫자 입력 :\")\n",
    "type(input_data)"
   ]
  },
  {
   "cell_type": "code",
   "execution_count": 35,
   "id": "99ef6a8b",
   "metadata": {},
   "outputs": [
    {
     "data": {
      "text/plain": [
       "float"
      ]
     },
     "execution_count": 35,
     "metadata": {},
     "output_type": "execute_result"
    }
   ],
   "source": [
    "# 데이터 타입 변경 : 문자를 숫자로 -> int(), float()\n",
    "# 숫자를 문자로 -> str()\n",
    "input_data = float(input_data)\n",
    "type(input_data)"
   ]
  },
  {
   "cell_type": "code",
   "execution_count": 38,
   "id": "be7f6a53",
   "metadata": {},
   "outputs": [
    {
     "data": {
      "text/plain": [
       "int"
      ]
     },
     "execution_count": 38,
     "metadata": {},
     "output_type": "execute_result"
    }
   ],
   "source": [
    "type(int('123'))"
   ]
  },
  {
   "cell_type": "code",
   "execution_count": 39,
   "id": "f54314b4",
   "metadata": {},
   "outputs": [
    {
     "name": "stdout",
     "output_type": "stream",
     "text": [
      "처음 숫자 입력 : 10\n",
      "두번째 숫자 입력 : 20\n",
      "10  +  20  =  30\n",
      "10  *  20  =  200\n"
     ]
    }
   ],
   "source": [
    "# 두 수를 입력 받아 두 수의 합과 곱을 구하세요\n",
    "# 1. 숫자 두 개를 입력 받음\n",
    "# 2. 입력 받은 두 수를 int로 형 변환\n",
    "input_a = int(input(\"처음 숫자 입력 : \"))\n",
    "input_b = int(input(\"두번째 숫자 입력 : \"))\n",
    "\n",
    "# 3. 두 수의 합과 곱을 구함\n",
    "print(input_a, \" + \", input_b , \" = \", input_a + input_b)\n",
    "print(input_a, \" * \", input_b , \" = \", input_a * input_b)"
   ]
  },
  {
   "cell_type": "markdown",
   "id": "f686fb97",
   "metadata": {},
   "source": [
    "### 4. 숫자와 문자열의 다양한 기능"
   ]
  },
  {
   "cell_type": "code",
   "execution_count": 65,
   "id": "126b2612",
   "metadata": {},
   "outputs": [
    {
     "name": "stdout",
     "output_type": "stream",
     "text": [
      "10 + 20 = 30\n"
     ]
    }
   ],
   "source": [
    "# 문자열.format()\n",
    "\"{} : {}\".format(10,'str')\n",
    "print(\"{} + {} = {}\".format(input_a, input_b, input_a + input_b))\n",
    "# input_a"
   ]
  },
  {
   "cell_type": "code",
   "execution_count": 46,
   "id": "9614259f",
   "metadata": {},
   "outputs": [
    {
     "data": {
      "text/plain": [
       "'3.45 소수 float'"
      ]
     },
     "execution_count": 46,
     "metadata": {},
     "output_type": "execute_result"
    }
   ],
   "source": [
    "\"{} 소수 {}\".format(3.45, 'float')"
   ]
  },
  {
   "cell_type": "code",
   "execution_count": 48,
   "id": "de8f8d0e",
   "metadata": {},
   "outputs": [
    {
     "data": {
      "text/plain": [
       "'3.45 소수 float 34'"
      ]
     },
     "execution_count": 48,
     "metadata": {},
     "output_type": "execute_result"
    }
   ],
   "source": [
    "\"{} 소수 {} {}\".format(3.45, 'float', 34, 56)"
   ]
  },
  {
   "cell_type": "code",
   "execution_count": 68,
   "id": "300b1267",
   "metadata": {},
   "outputs": [
    {
     "name": "stdout",
     "output_type": "stream",
     "text": [
      "52\n",
      "52\n",
      "   52\n",
      "00052\n",
      "-0052\n"
     ]
    }
   ],
   "source": [
    "# 정수 출력에서 format() 함수 활용\n",
    "# \"{}\".format(52)\n",
    "# \"{:d}\".format(52)\n",
    "print(\"{}\".format(52))\n",
    "print(\"{:d}\".format(52))\n",
    "print(\"{:5d}\".format(52))\n",
    "print(\"{:05d}\".format(52))\n",
    "print(\"{:05d}\".format(-52))"
   ]
  },
  {
   "cell_type": "code",
   "execution_count": 57,
   "id": "b35581b7",
   "metadata": {},
   "outputs": [
    {
     "name": "stdout",
     "output_type": "stream",
     "text": [
      "-52\n",
      "+52\n",
      " 52\n",
      "-52\n"
     ]
    }
   ],
   "source": [
    "# 기호와 함께 출력\n",
    "print(\"{:+d}\".format(-52))\n",
    "print(\"{:+d}\".format(52))\n",
    "\n",
    "print(\"{: d}\".format(52))\n",
    "print(\"{: d}\".format(-52))"
   ]
  },
  {
   "cell_type": "code",
   "execution_count": 61,
   "id": "306b5fd5",
   "metadata": {},
   "outputs": [
    {
     "name": "stdout",
     "output_type": "stream",
     "text": [
      "  +52\n",
      "  -52\n",
      "+  52\n",
      "-  52\n",
      "52.34\n",
      " 52.344650\n",
      "52\n"
     ]
    }
   ],
   "source": [
    "# 기호와 함께 출력\n",
    "print(\"{:+5d}\".format(52))    # 부호와 함께 표현\n",
    "print(\"{:+5d}\".format(-52))\n",
    "\n",
    "print(\"{:=+5d}\".format(52))    # 부호를 앞으로 밀기\n",
    "print(\"{:=+5d}\".format(-52))\n",
    "\n",
    "print(\"{:5.2f}\".format(52.34465))   # 소수점 미만 두 자리까지만 표현\n",
    "print(\"{:10f}\".format(52.34465))  # 실수 표현\n",
    "\n",
    "print(\"{:g}\".format(52.0))   # 의미없는 소수점 미만 자료 버리기"
   ]
  },
  {
   "cell_type": "code",
   "execution_count": 75,
   "id": "cf026795",
   "metadata": {},
   "outputs": [
    {
     "name": "stdout",
     "output_type": "stream",
     "text": [
      "숫자 입력 : 10\n",
      "숫자 입력 : 34\n",
      "입력 받은 두 수는 10, 34\n"
     ]
    }
   ],
   "source": [
    "# 두 개의 숫자를 입력 받아 두 수의 합과 곱, 차, 나머지 값을 다음의 \n",
    "# 형식으로 출력\n",
    "input_a = int(input(\"숫자 입력 : \"))\n",
    "input_b = int(input(\"숫자 입력 : \"))\n",
    "# 1. 입력 받은 두 수는 10, 20 \n",
    "prt_str = '입력 받은 두 수'\n",
    "print(\"{}는 {}, {}\".format(prt_str, input_a, input_b))"
   ]
  },
  {
   "cell_type": "code",
   "execution_count": 72,
   "id": "221e6b08",
   "metadata": {},
   "outputs": [
    {
     "name": "stdout",
     "output_type": "stream",
     "text": [
      "입력 받은 두 수 10과 20의 합은 30\n",
      "입력 받은 두 수 10과 20의 곱은 200\n",
      "입력 받은 두 수 10과 20의 차는 -10\n",
      "입력 받은 두 수 10과 20의 나머지 값은 10\n"
     ]
    }
   ],
   "source": [
    "# 2. 입력 받은 두 수 10과 20의 합은 30\n",
    "print(\"{} {}과 {}의 합은 {}\".format(prt_str, input_a, input_b, \n",
    "                                input_a + input_b))\n",
    "# 3. 입력 받은 두 수 10과 20의 곱은 200\n",
    "print(\"{} {}과 {}의 곱은 {}\".format(prt_str, input_a, input_b, \n",
    "                                input_a * input_b))\n",
    "# 4. 입력 받은 두 수 10과 20의 차는 -10\n",
    "print(\"{} {}과 {}의 차는 {}\".format(prt_str, input_a, input_b, \n",
    "                                input_a - input_b))\n",
    "# 5. 입력 받은 두 수 10과 20의 나눈 나머지 는 10..\n",
    "print(\"{} {}과 {}의 나머지 값은 {}\".format(prt_str, input_a, input_b, \n",
    "                                input_a % input_b))"
   ]
  },
  {
   "cell_type": "code",
   "execution_count": null,
   "id": "a30e8dd1",
   "metadata": {},
   "outputs": [],
   "source": []
  },
  {
   "cell_type": "code",
   "execution_count": null,
   "id": "19dde44e",
   "metadata": {},
   "outputs": [],
   "source": []
  },
  {
   "cell_type": "code",
   "execution_count": null,
   "id": "02420e7e",
   "metadata": {},
   "outputs": [],
   "source": []
  },
  {
   "cell_type": "code",
   "execution_count": null,
   "id": "a9eddb9a",
   "metadata": {},
   "outputs": [],
   "source": []
  }
 ],
 "metadata": {
  "kernelspec": {
   "display_name": "Python 3 (ipykernel)",
   "language": "python",
   "name": "python3"
  },
  "language_info": {
   "codemirror_mode": {
    "name": "ipython",
    "version": 3
   },
   "file_extension": ".py",
   "mimetype": "text/x-python",
   "name": "python",
   "nbconvert_exporter": "python",
   "pygments_lexer": "ipython3",
   "version": "3.9.12"
  }
 },
 "nbformat": 4,
 "nbformat_minor": 5
}
