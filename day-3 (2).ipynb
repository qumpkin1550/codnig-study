{
 "cells": [
  {
   "cell_type": "markdown",
   "id": "cf3bb994",
   "metadata": {},
   "source": [
    "## chap. 02 딕셔너리와 반복문"
   ]
  },
  {
   "cell_type": "code",
   "execution_count": 2,
   "id": "54c153d8",
   "metadata": {},
   "outputs": [
    {
     "name": "stdout",
     "output_type": "stream",
     "text": [
      "{'name': '홍길동', 'age': 30}\n",
      "<class 'dict'>\n"
     ]
    }
   ],
   "source": [
    "# 딕셔너리 선언 : {키:값, ... },  리스트 [ 값,... ]\n",
    "dict_a = { 'name':'홍길동', 'age' : 30}\n",
    "\n",
    "print(dict_a)\n",
    "print(type(dict_a))"
   ]
  },
  {
   "cell_type": "code",
   "execution_count": 4,
   "id": "d9c234ca",
   "metadata": {},
   "outputs": [],
   "source": [
    "name = '키'"
   ]
  },
  {
   "cell_type": "code",
   "execution_count": 5,
   "id": "586e2428",
   "metadata": {},
   "outputs": [],
   "source": [
    "dict_b = {name:10}"
   ]
  },
  {
   "cell_type": "code",
   "execution_count": 6,
   "id": "b8f98597",
   "metadata": {},
   "outputs": [
    {
     "data": {
      "text/plain": [
       "{'키': 10}"
      ]
     },
     "execution_count": 6,
     "metadata": {},
     "output_type": "execute_result"
    }
   ],
   "source": [
    "dict_b"
   ]
  },
  {
   "cell_type": "code",
   "execution_count": 7,
   "id": "09a1ab8c",
   "metadata": {},
   "outputs": [
    {
     "data": {
      "text/plain": [
       "{'name': '홍길동', 'age': 30, 'title': '딕셔너리'}"
      ]
     },
     "execution_count": 7,
     "metadata": {},
     "output_type": "execute_result"
    }
   ],
   "source": [
    "# 딕셔너리에 값 추가 / 제거 하기 : 딕셔너리[키] = 값\n",
    "# 삭제는  del 딕셔너리[키]\n",
    "dict_a['title'] = '딕셔너리'\n",
    "dict_a"
   ]
  },
  {
   "cell_type": "code",
   "execution_count": 8,
   "id": "b6c2212e",
   "metadata": {},
   "outputs": [
    {
     "data": {
      "text/plain": [
       "{'age': 30, 'title': '딕셔너리'}"
      ]
     },
     "execution_count": 8,
     "metadata": {},
     "output_type": "execute_result"
    }
   ],
   "source": [
    "del dict_a['name']\n",
    "dict_a"
   ]
  },
  {
   "cell_type": "code",
   "execution_count": null,
   "id": "a11e1986",
   "metadata": {},
   "outputs": [],
   "source": [
    "# list_a = []\n",
    "# list_a.append()\n",
    "\n",
    "# dict_c = {}\n",
    "# dict_c['키'] = 값"
   ]
  },
  {
   "cell_type": "code",
   "execution_count": 22,
   "id": "899a264b",
   "metadata": {},
   "outputs": [
    {
     "name": "stdout",
     "output_type": "stream",
     "text": [
      "이름 입력 : 홍길동\n",
      "정수 입력 :100\n",
      "이름 입력 : 김철수\n",
      "정수 입력 :90\n",
      "이름 입력 : 개나리\n",
      "정수 입력 :88\n",
      "이름 입력 : 진달래 \n",
      "정수 입력 :99\n",
      "이름 입력 : q\n",
      "입력 종료\n",
      "{'홍길동': 100, '김철수': 90, '개나리': 88, '진달래 ': 99}\n"
     ]
    }
   ],
   "source": [
    "# 키보드에서 이름과 성적을 입력 받아 이름을 키로 성적을 값으로 딕셔너리에 저장\n",
    "# 이름에 'q' 가 입력되면 입력 종류\n",
    "# 저장된 자료를 출력\n",
    "score_dict = {}\n",
    "while True:\n",
    "    name = input(\"이름 입력 : \")\n",
    "    if name == 'q':\n",
    "        print(\"입력 종료\")\n",
    "        break\n",
    "    score = int(input(\"정수 입력 :\"))\n",
    "    score_dict[name] = score\n",
    "\n",
    "print(score_dict)         "
   ]
  },
  {
   "cell_type": "code",
   "execution_count": 25,
   "id": "7269e04e",
   "metadata": {},
   "outputs": [
    {
     "name": "stdout",
     "output_type": "stream",
     "text": [
      "검색하고자 하는 이름 입력 :이영희\n",
      "이영희의 자료는 없습니다\n"
     ]
    }
   ],
   "source": [
    "# 검색하고자 하는 이름을 입력 받아 입력된 자료에 존재하면 이름과 성적 출력\n",
    "# 존재하지 않으면 '존재하지 않는 이름' 이라고 출력\n",
    "search_name = input(\"검색하고자 하는 이름 입력 :\")\n",
    "if search_name in score_dict:\n",
    "    print(\"{}의 성적은 {} 입니다 \".format(search_name, score_dict[search_name]))\n",
    "else:\n",
    "    print(\"{}의 자료는 없습니다\".format(search_name))"
   ]
  },
  {
   "cell_type": "code",
   "execution_count": 27,
   "id": "2a6df6d7",
   "metadata": {},
   "outputs": [
    {
     "name": "stdout",
     "output_type": "stream",
     "text": [
      "검색하고자 하는 이름 입력 :abcd\n",
      "abcd의 자료는 없습니다\n"
     ]
    }
   ],
   "source": [
    "# 키의 값이 있는지 확인하는 함수 : 딕셔너리.get(키) -> 값을 반환\n",
    "search_name = input(\"검색하고자 하는 이름 입력 :\")\n",
    "value = score_dict.get(search_name)\n",
    "if value:\n",
    "    print(\"{}의 성적은 {} 입니다 \".format(search_name, value))\n",
    "else:\n",
    "    print(\"{}의 자료는 없습니다\".format(search_name))"
   ]
  },
  {
   "cell_type": "code",
   "execution_count": 29,
   "id": "1d99c965",
   "metadata": {},
   "outputs": [
    {
     "name": "stdout",
     "output_type": "stream",
     "text": [
      "홍길동 : 100\n",
      "김철수 : 90\n",
      "개나리 : 88\n",
      "진달래  : 99\n"
     ]
    }
   ],
   "source": [
    "# for 반복문과 같이 사용 : for key in dict:\n",
    "#  for문을 사용하여 딕셔너리의 자료 출력\n",
    "for key in score_dict:\n",
    "    print(f\"{key} : {score_dict[key]}\")\n",
    "#     value = score_dict.get(key)\n",
    "#     print(f\"{key} : {value}\")    "
   ]
  },
  {
   "cell_type": "code",
   "execution_count": 32,
   "id": "c7a75d8b",
   "metadata": {},
   "outputs": [
    {
     "name": "stdout",
     "output_type": "stream",
     "text": [
      "홍길동 : 100\n",
      "김철수 : 90\n",
      "개나리 : 88\n",
      "진달래  : 99\n"
     ]
    },
    {
     "data": {
      "text/plain": [
       "dict_values([100, 90, 88, 99])"
      ]
     },
     "execution_count": 32,
     "metadata": {},
     "output_type": "execute_result"
    }
   ],
   "source": [
    "# 딕셔너리의 키와 값을 동시에 가져오는 함수 : 딕셔너리.items()\n",
    "for key, value in score_dict.items():\n",
    "    print(f\"{key} : {value}\")\n",
    "# score_dict.keys()\n",
    "score_dict.values()"
   ]
  },
  {
   "cell_type": "code",
   "execution_count": 33,
   "id": "df9a052c",
   "metadata": {},
   "outputs": [
    {
     "name": "stdout",
     "output_type": "stream",
     "text": [
      "이름 입력 :aa\n",
      " 국어 영어 수학 성적 입력 (ex : 90 80 90)90 80 70\n",
      "이름 입력 :bb\n",
      " 국어 영어 수학 성적 입력 (ex : 90 80 90)8 \n",
      "이름 입력 :bb \n",
      " 국어 영어 수학 성적 입력 (ex : 90 80 90)80 99 88\n",
      "이름 입력 :cc\n",
      " 국어 영어 수학 성적 입력 (ex : 90 80 90)77 88 99\n",
      "이름 입력 :q\n",
      "입력 종료 \n"
     ]
    },
    {
     "data": {
      "text/plain": [
       "{'aa': [90, 80, 70], 'bb ': [80, 99, 88], 'cc': [77, 88, 99]}"
      ]
     },
     "execution_count": 33,
     "metadata": {},
     "output_type": "execute_result"
    }
   ],
   "source": [
    "# 이름과 국어, 영어, 수학 성적을 입력 받아 딕셔너리에 저장한 후\n",
    "# srudents -> 이름, 국어, 영어, 수학 성적 , 이름을 키로 \n",
    "students = {}\n",
    "while True:\n",
    "    name = input('이름 입력 :')\n",
    "    if name == 'q':\n",
    "        print(\"입력 종료 \")\n",
    "        break\n",
    "    scores = input(\" 국어 영어 수학 성적 입력 (ex : 90 80 90)\").split()\n",
    "    if len(scores) !=3 :\n",
    "        continue\n",
    "    score_list = []\n",
    "    for score in scores:\n",
    "        score_list.append(int(score))\n",
    "    students[name] = score_list\n",
    "students    "
   ]
  },
  {
   "cell_type": "code",
   "execution_count": null,
   "id": "bcb99bf5",
   "metadata": {},
   "outputs": [],
   "source": [
    "# 학생별로 성적의 총합, 평균을 출력\n",
    " # 1. 딕셔너리의 자료를 가져와서 총합 평균 출력\n",
    "print(\"{:6}{:6}{:6}\".format('이름','총점','평균'))\n",
    "\n",
    "for key, scores in students.items():\n",
    "    total = 0  # 학생의 총점을 초기화\n",
    "    for score in scores:   # 리스트의 각 점수를 가져 옴\n",
    "        total += score   # 누적 합 구함\n",
    "    print(\"{:6}{:6d}\\t{:6.2f}\".format(key,total, total/len(scores)))"
   ]
  },
  {
   "cell_type": "code",
   "execution_count": 102,
   "id": "439f7575",
   "metadata": {},
   "outputs": [
    {
     "name": "stdout",
     "output_type": "stream",
     "text": [
      "dict_values([[90, 80, 70], [80, 99, 88], [77, 88, 99]])\n"
     ]
    }
   ],
   "source": [
    "# 전체 학생의 인원수, 과목별 평균을 구하세요\n",
    "scores = students.values()\n",
    "print(scores)\n",
    "tot_score = [0,0,0]\n",
    "for score in scores:\n",
    "    idx = 0\n",
    "    for sub_score in score:   # 각 과목별 평균을 구하기 위해 \n",
    "        tot_score[idx] += sub_score\n",
    "        idx += 1"
   ]
  },
  {
   "cell_type": "code",
   "execution_count": 101,
   "id": "320f552d",
   "metadata": {},
   "outputs": [
    {
     "data": {
      "text/plain": [
       "{'aa': [90, 80, 70], 'bb ': [80, 99, 88], 'cc': [77, 88, 99]}"
      ]
     },
     "execution_count": 101,
     "metadata": {},
     "output_type": "execute_result"
    }
   ],
   "source": [
    "students\n",
    "tot_score = [0,0,0]\n",
    "for key, scores in students.items():\n",
    "    print(key, scores)\n",
    "    for i, score in enumerate(scores):\n",
    "        tot_score[i] += score\n",
    "\n",
    "for tot in tot_score:\n",
    "    print(tot/3)"
   ]
  },
  {
   "cell_type": "code",
   "execution_count": 68,
   "id": "40bf4c91",
   "metadata": {},
   "outputs": [
    {
     "data": {
      "text/plain": [
       "'\\nscores = students.values()\\ntot_score = [0,0,0]\\nfor score in scores:\\n    for idx,sub_score in enumerate(score):   # 인덱스와 값을 반환하는 함수\\n        tot_score[idx] += sub_score\\n'"
      ]
     },
     "execution_count": 68,
     "metadata": {},
     "output_type": "execute_result"
    }
   ],
   "source": [
    "# 전체 학생의 인원수, 과목별 평균을 구하세요\n",
    "scores = students.values()\n",
    "tot_score = [0,0,0]\n",
    "for score in scores:\n",
    "    for idx,sub_score in enumerate(score):   # 인덱스와 값을 반환하는 함수\n",
    "        tot_score[idx] += sub_score      "
   ]
  },
  {
   "cell_type": "code",
   "execution_count": 100,
   "id": "87c6ab74",
   "metadata": {},
   "outputs": [
    {
     "name": "stdout",
     "output_type": "stream",
     "text": [
      "0 10 10\n",
      "1 20 20\n",
      "2 30 30\n",
      "3 40 40\n",
      "4 50 50\n"
     ]
    }
   ],
   "source": [
    "a = [10,20,30,40,50]\n",
    "for i, score in enumerate(a):\n",
    "    print(i, score, a[i])"
   ]
  },
  {
   "cell_type": "code",
   "execution_count": 67,
   "id": "5625c317",
   "metadata": {},
   "outputs": [
    {
     "name": "stdout",
     "output_type": "stream",
     "text": [
      "학생수 : 3\n",
      "국어 : 82.33\t영어 : 89.00\t수학 : 85.67\t"
     ]
    }
   ],
   "source": [
    "# 각 과목별 평균 \n",
    "print(\"학생수 : {}\".format(len(students))) # 전체 학생수 : len(딕셔너리)\n",
    "titles = ['국어', '영어', '수학']\n",
    "for idx,tot in enumerate(tot_score):\n",
    "    print(\"{} : {:3.2f}\".format(titles[idx], tot/3), end='\\t')"
   ]
  },
  {
   "cell_type": "code",
   "execution_count": 21,
   "id": "a8bd8a0b",
   "metadata": {},
   "outputs": [
    {
     "name": "stdout",
     "output_type": "stream",
     "text": [
      "True\n",
      "False\n"
     ]
    }
   ],
   "source": [
    "# 키가 존재하는지 확인 : key in 딕셔너리 -> 딕셔너리의 키에 key 가 있는지 확인\n",
    "print('a' in  score_dict) #  True \n",
    "print('name' in score_dict) #  False"
   ]
  },
  {
   "cell_type": "code",
   "execution_count": 11,
   "id": "e522dc62",
   "metadata": {},
   "outputs": [
    {
     "name": "stdout",
     "output_type": "stream",
     "text": [
      "[1, 2, 3, 4, 5, 6, 7, 8, 9]\n",
      "[[1, 4, 7], [2, 5, 8], [3, 6, 9]]\n"
     ]
    }
   ],
   "source": [
    "# 215p 4번\n",
    "nums = list(range(1,10))\n",
    "print(nums)\n",
    "# [[1,4,7],[2,5,8], [3,6,9]]\n",
    "output = [[],[],[]]\n",
    "for num in nums:\n",
    "    output[num %3 -1].append(num)\n",
    "print(output)    "
   ]
  },
  {
   "cell_type": "code",
   "execution_count": 19,
   "id": "d0d6841f",
   "metadata": {},
   "outputs": [
    {
     "name": "stdout",
     "output_type": "stream",
     "text": [
      "[1, 2, 3, 4, 5, 6, 7, 8, 9]\n",
      "i = 0, j = 1\n",
      "i = 2, j = 3\n",
      "i = 4, j = 5\n",
      "[1, 4, 3, 16, 5, 36, 7, 8, 9]\n"
     ]
    }
   ],
   "source": [
    "# 259p 5번\n",
    "nums = list(range(1,10)) \n",
    "print(nums)\n",
    "for i in range(0, len(nums) // 2 + 1, 2):  # range(0,4)  -> 0, 1, 2, 3\n",
    "    j = nums[i]\n",
    "    print(f\"i = {i}, j = {j}\")    \n",
    "    nums[j] = nums[j] ** 2\n",
    "    \n",
    "print(nums)"
   ]
  },
  {
   "cell_type": "code",
   "execution_count": 71,
   "id": "4648ab3f",
   "metadata": {},
   "outputs": [
    {
     "name": "stdout",
     "output_type": "stream",
     "text": [
      "=== 2 단 === \n",
      "2 * 1 =  2\t2 * 2 =  4\t2 * 3 =  6\n",
      "2 * 4 =  8\t2 * 5 = 10\t2 * 6 = 12\n",
      "2 * 7 = 14\t2 * 8 = 16\t2 * 9 = 18\n",
      "\n",
      "=== 3 단 === \n",
      "3 * 1 =  3\t3 * 2 =  6\t3 * 3 =  9\n",
      "3 * 4 = 12\t3 * 5 = 15\t3 * 6 = 18\n",
      "3 * 7 = 21\t3 * 8 = 24\t3 * 9 = 27\n",
      "\n",
      "=== 4 단 === \n",
      "4 * 1 =  4\t4 * 2 =  8\t4 * 3 = 12\n",
      "4 * 4 = 16\t4 * 5 = 20\t4 * 6 = 24\n",
      "4 * 7 = 28\t4 * 8 = 32\t4 * 9 = 36\n",
      "\n",
      "=== 5 단 === \n",
      "5 * 1 =  5\t5 * 2 = 10\t5 * 3 = 15\n",
      "5 * 4 = 20\t5 * 5 = 25\t5 * 6 = 30\n",
      "5 * 7 = 35\t5 * 8 = 40\t5 * 9 = 45\n",
      "\n",
      "=== 6 단 === \n",
      "6 * 1 =  6\t6 * 2 = 12\t6 * 3 = 18\n",
      "6 * 4 = 24\t6 * 5 = 30\t6 * 6 = 36\n",
      "6 * 7 = 42\t6 * 8 = 48\t6 * 9 = 54\n",
      "\n",
      "=== 7 단 === \n",
      "7 * 1 =  7\t7 * 2 = 14\t7 * 3 = 21\n",
      "7 * 4 = 28\t7 * 5 = 35\t7 * 6 = 42\n",
      "7 * 7 = 49\t7 * 8 = 56\t7 * 9 = 63\n",
      "\n",
      "=== 8 단 === \n",
      "8 * 1 =  8\t8 * 2 = 16\t8 * 3 = 24\n",
      "8 * 4 = 32\t8 * 5 = 40\t8 * 6 = 48\n",
      "8 * 7 = 56\t8 * 8 = 64\t8 * 9 = 72\n",
      "\n",
      "=== 9 단 === \n",
      "9 * 1 =  9\t9 * 2 = 18\t9 * 3 = 27\n",
      "9 * 4 = 36\t9 * 5 = 45\t9 * 6 = 54\n",
      "9 * 7 = 63\t9 * 8 = 72\t9 * 9 = 81\n",
      "\n"
     ]
    }
   ],
   "source": [
    "# 구구단을 range() 함수를 사용하여 구현\n",
    "for dan in range(2,10):\n",
    "    print(f\"=== {dan} 단 === \")\n",
    "    cnt = 1\n",
    "    for num in range(1,10):\n",
    "        if cnt < 3:\n",
    "            print(\"{} * {} = {:2d}\".format(dan, num, dan * num),end='\\t')\n",
    "            cnt += 1\n",
    "        else:\n",
    "            cnt = 1\n",
    "            print(\"{} * {} = {:2d}\".format(dan, num, dan * num))            \n",
    "    print()"
   ]
  },
  {
   "cell_type": "code",
   "execution_count": 94,
   "id": "c80430f7",
   "metadata": {},
   "outputs": [
    {
     "name": "stdout",
     "output_type": "stream",
     "text": [
      "0\t5\t10\n",
      "15\t20\t25\n",
      "30\t35\t40\n",
      "45\t50\t55\n",
      "60\t65\t70\n",
      "75\t80\t85\n",
      "90\t95\t100\n",
      "\n",
      "\n",
      "0\t5\t10\t15\t20\t25\t30\t35\t40\t45\n",
      "50\t55\t60\t65\t70\t75\t80\t85\t90\t95\n",
      "100\t"
     ]
    }
   ],
   "source": [
    "# 0부터 100 까지의 수 중에서 5의 배수만 출력\n",
    "# range() 함수 사용\n",
    "line_cnt = 0\n",
    "for i in range(0,101, 5):\n",
    "    line_cnt += 1\n",
    "    if line_cnt % 10 == 0:   # 한 라인에 10개씩 \n",
    "        print(i)\n",
    "    else:\n",
    "        print(i,end='\\t')\n",
    "print()    \n",
    "print()   \n",
    "for line_cnt, i in enumerate(list(range(0,101, 5))):\n",
    "    if (line_cnt+1) % 10 == 0:\n",
    "        print(i)\n",
    "    else:\n",
    "        print(i,end='\\t')"
   ]
  },
  {
   "cell_type": "code",
   "execution_count": 92,
   "id": "cb63271a",
   "metadata": {},
   "outputs": [
    {
     "name": "stdout",
     "output_type": "stream",
     "text": [
      "0번째 값 : 3 \t1번째 값 : 4 \n",
      "2번째 값 : 1 \t3번째 값 : 5 \n",
      "4번째 값 : 7 \t\n",
      "enumerate 함수를 활용하여 위치 확인\n",
      "0번째 값 : 3 \n",
      "1번째 값 : 4 \n",
      "2번째 값 : 1 \n",
      "3번째 값 : 5 \n",
      "4번째 값 : 7 \n"
     ]
    }
   ],
   "source": [
    "# 원 소스\n",
    "num_list = [3,4,1,5,7]\n",
    "for i in range(len(num_list)):\n",
    "    print(\"{}번째 값 : {} \".format(i, num_list[i]))\n",
    "print(\"enumerate 함수를 활용하여 위치 확인\")\n",
    "for i, value in enumerate(num_list):\n",
    "    print(\"{}번째 값 : {} \".format(i, value))"
   ]
  },
  {
   "cell_type": "code",
   "execution_count": null,
   "id": "4e18fbb0",
   "metadata": {},
   "outputs": [],
   "source": [
    "# 추가된 소스 : 한 라인에 두 개씩 출력 \n",
    "num_list = [3,4,1,5,7]\n",
    "for i in range(len(num_list)):\n",
    "    if (i+1) % 2  == 0 : # 한 라인에 두 개씩 출력하기 위해 인덱스 나머지값 계산\n",
    "        print(\"{}번째 값 : {} \".format(i, num_list[i]))\n",
    "    else:\n",
    "        print(\"{}번째 값 : {} \".format(i, num_list[i]), end='\\t')        \n",
    "print(\"\\nenumerate 함수를 활용하여 위치 확인\")\n",
    "for i, value in enumerate(num_list):\n",
    "    print(\"{}번째 값 : {} \".format(i, value))"
   ]
  },
  {
   "cell_type": "code",
   "execution_count": 108,
   "id": "d712b0c1",
   "metadata": {},
   "outputs": [
    {
     "name": "stdout",
     "output_type": "stream",
     "text": [
      "dict_values([[90, 80, 70], [80, 99, 88], [77, 88, 99]])\n",
      "[90, 80, 70]\n",
      "0:90\n",
      "1:80\n",
      "2:70\n",
      "[80, 99, 88]\n",
      "0:170\n",
      "1:179\n",
      "2:158\n",
      "[77, 88, 99]\n",
      "0:247\n",
      "1:267\n",
      "2:257\n",
      "[90, 80, 70]\n",
      "0:90\n",
      "1:80\n",
      "2:70\n",
      "[80, 99, 88]\n",
      "0:170\n",
      "1:179\n",
      "2:158\n",
      "[77, 88, 99]\n",
      "0:247\n",
      "1:267\n",
      "2:257\n"
     ]
    }
   ],
   "source": [
    "dict_a = {\n",
    "    'aa': [90, 80, 70], \n",
    "    'bb ': [80, 99, 88], \n",
    "    'cc': [77, 88, 99]}\n",
    "print(dict_a.values())  # [[90, 80, 70], [80, 99, 88],[77, 88, 99]]\n",
    "\n",
    "tot_score = [0, 0, 0]\n",
    "for score in dict_a.values():\n",
    "    print(score)\n",
    "    idx = 0\n",
    "    for i in score:\n",
    "        tot_score[idx] += i\n",
    "        print(f\"{idx}:{tot_score[idx]}\")\n",
    "        idx += 1\n",
    "        \n",
    "# idx 대신 enumerate() 함수를 사용\n",
    "tot_score = [0, 0, 0]\n",
    "for score in dict_a.values():\n",
    "    print(score)\n",
    "    for idx, i in enumerate(score):\n",
    "        tot_score[idx] += i\n",
    "        print(f\"{idx}:{tot_score[idx]}\")      "
   ]
  },
  {
   "cell_type": "code",
   "execution_count": null,
   "id": "f0a81f8d",
   "metadata": {},
   "outputs": [],
   "source": [
    "# 1.키보드에서 이름을 입력 받아 'q'가 입력되면 입력 종료\n",
    "#  아니면 국어 영어 점수를 입력받아 저장\n",
    "#   입력 받은 점수의 갯수가 2가 아니거나 숫자가 아니면 다시 입력\n",
    "# 2. 입력 종료 후 검색하고자 하는 이름을 입력 받아 \n",
    "#   검색된 이름의 성적과, 총점, 평균 출력\n",
    "# 3. 총 입력된 학생의 인원수 출력\n",
    "# 4. 전체 학생의 성적의 합계를 기존의 자료에 추가\n",
    "# 5. 최고점을 받은 학생의 정보 출력"
   ]
  },
  {
   "cell_type": "code",
   "execution_count": null,
   "id": "dd563d21",
   "metadata": {
    "scrolled": false
   },
   "outputs": [
    {
     "name": "stdout",
     "output_type": "stream",
     "text": [
      "이름 입력 :dj\n",
      " 국어 영어 성적 입력 (ex : 90 80 90)30 05 60 20\n",
      "이름 입력 :df\n",
      " 국어 영어 성적 입력 (ex : 90 80 90)30 40\n",
      "이름 입력 :sdk\n",
      " 국어 영어 성적 입력 (ex : 90 80 90)40 50 20\n",
      "이름 입력 :dk \n",
      " 국어 영어 성적 입력 (ex : 90 80 90)40 50\n",
      "이름 입력 :dk\n",
      " 국어 영어 성적 입력 (ex : 90 80 90)50\n",
      "이름 입력 :dk \n",
      " 국어 영어 성적 입력 (ex : 90 80 90)w45\n",
      "이름 입력 :dsamqe\n",
      " 국어 영어 성적 입력 (ex : 90 80 90)450124\n",
      "이름 입력 :sakdf\n",
      " 국어 영어 성적 입력 (ex : 90 80 90)23f2\n",
      "이름 입력 :f\n",
      " 국어 영어 성적 입력 (ex : 90 80 90)2\n",
      "이름 입력 :g23\n",
      " 국어 영어 성적 입력 (ex : 90 80 90)\n",
      "이름 입력 :32g\n",
      " 국어 영어 성적 입력 (ex : 90 80 90)32g\n",
      "이름 입력 :3g\n",
      " 국어 영어 성적 입력 (ex : 90 80 90)5g\n",
      "이름 입력 :23t5\n",
      " 국어 영어 성적 입력 (ex : 90 80 90)245t\n",
      "이름 입력 :24\n",
      " 국어 영어 성적 입력 (ex : 90 80 90)g\n",
      "이름 입력 :e42g\n",
      " 국어 영어 성적 입력 (ex : 90 80 90)eg\n",
      "이름 입력 :e3t\n",
      " 국어 영어 성적 입력 (ex : 90 80 90)3t3T\n",
      "이름 입력 :r\n",
      " 국어 영어 성적 입력 (ex : 90 80 90)g\n"
     ]
    }
   ],
   "source": [
    "# 1.키보드에서 이름을 입력 받아 'q'가 입력되면 입력 종료\n",
    "#  아니면 국어 영어 점수를 입력받아 저장\n",
    "#   입력 받은 점수의 갯수가 2가 아니거나 숫자가 아니면 다시 입력\n",
    "students = {}\n",
    "while True:\n",
    "    name = input('이름 입력 :')\n",
    "    if name == 'q':\n",
    "        print(\"입력 종료 \")\n",
    "        break\n",
    "        \n",
    "    scores = input(\" 국어 영어 성적 입력 (ex : 90 80 90)\").split()\n",
    "    score_list = []    \n",
    "    for score in scores:\n",
    "        if score.isnumeric():   # 입력한 자료가 숫자이면 정수로 형변환\n",
    "            score_list.append(int(score))\n",
    "        else:    #  입력한 자료가 정수가 아니면 변환 종료\n",
    "            break\n",
    "            \n",
    "    if len(score_list) != 2 :  # 변환된 자료의 수가 2가 아니면 다시 입력\n",
    "        continue\n",
    "        \n",
    "    students[name] = score_list  # 정상 입력된 자료는 딕셔너리에 추가\n",
    "\n",
    "students    "
   ]
  },
  {
   "cell_type": "code",
   "execution_count": 135,
   "id": "ad2e90b6",
   "metadata": {},
   "outputs": [
    {
     "data": {
      "text/plain": [
       "18"
      ]
     },
     "execution_count": 135,
     "metadata": {},
     "output_type": "execute_result"
    }
   ],
   "source": [
    "a = [3,4,5,6]\n",
    "sum(a)"
   ]
  },
  {
   "cell_type": "code",
   "execution_count": 132,
   "id": "3c5c8db0",
   "metadata": {},
   "outputs": [
    {
     "name": "stdout",
     "output_type": "stream",
     "text": [
      "검색 이름 : aa\n",
      "aa : 11\t22\t총점 : 33, 평균 : 11.00\n",
      "\n"
     ]
    }
   ],
   "source": [
    "# 2 검색하고자 하는 이름 입력\n",
    "s_name = input(\"검색 이름 : \")\n",
    "if s_name in students:\n",
    "    print(f'{s_name} ', end=': ')\n",
    "    for score in students[s_name]:   # 검색된 이름의 값을 가져옴 -> 리스트\n",
    "        print(f'{score}',end='\\t')\n",
    "    print(\"총점 : {}, 평균 : {:3.2f}\".format(sum(students[s_name]),\n",
    "                                        sum(students[s_name])/3))\n",
    "else:\n",
    "    print(\"자료 없음\")\n",
    "print()"
   ]
  },
  {
   "cell_type": "code",
   "execution_count": 133,
   "id": "51b4719c",
   "metadata": {},
   "outputs": [
    {
     "name": "stdout",
     "output_type": "stream",
     "text": [
      "총 인원수 : 5\n",
      "{'aa': [11, 22, 33], 'bb': [44, 55, 99], 'cc': [66, 55, 121], 'dd': [77, 88, 165], 'ee': [99, 33, 132]}\n"
     ]
    }
   ],
   "source": [
    "# 3. 총 입력된 학생의 인원수 출력\n",
    "print(\"총 인원수 : {}\".format(len(students)))\n",
    "# 4. 전체 학생의 성적의 합계를 기존의 자료에 추가\n",
    "for name, scores in students.items():\n",
    "    students[name].append(sum(scores))\n",
    "print(students)    "
   ]
  },
  {
   "cell_type": "code",
   "execution_count": 134,
   "id": "16fb9061",
   "metadata": {},
   "outputs": [
    {
     "name": "stdout",
     "output_type": "stream",
     "text": [
      "최고점 학생 : dd, 최고점 : 165\n"
     ]
    }
   ],
   "source": [
    "# 5. 최고점을 받은 학생의 정보 출력\n",
    "max_score = 0\n",
    "max_name = ''\n",
    "for name, scores in students.items():\n",
    "    if max_score < scores[2]:\n",
    "        max_score = scores[2]\n",
    "        max_name = name\n",
    "\n",
    "print(\"최고점 학생 : {}, 최고점 : {}\".format(max_name, max_score))"
   ]
  }
 ],
 "metadata": {
  "kernelspec": {
   "display_name": "Python 3 (ipykernel)",
   "language": "python",
   "name": "python3"
  },
  "language_info": {
   "codemirror_mode": {
    "name": "ipython",
    "version": 3
   },
   "file_extension": ".py",
   "mimetype": "text/x-python",
   "name": "python",
   "nbconvert_exporter": "python",
   "pygments_lexer": "ipython3",
   "version": "3.9.12"
  }
 },
 "nbformat": 4,
 "nbformat_minor": 5
}
