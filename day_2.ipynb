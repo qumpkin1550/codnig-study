{
 "cells": [
  {
   "cell_type": "code",
   "execution_count": 1,
   "id": "9166265d",
   "metadata": {},
   "outputs": [
    {
     "name": "stdout",
     "output_type": "stream",
     "text": [
      "20\n",
      "None\n"
     ]
    }
   ],
   "source": [
    "a = 10\n",
    "\n",
    "b=print(a+10) \n",
    "\n",
    "print(b)"
   ]
  },
  {
   "cell_type": "code",
   "execution_count": 3,
   "id": "21b026eb",
   "metadata": {},
   "outputs": [
    {
     "name": "stdout",
     "output_type": "stream",
     "text": [
      "A B C D E F G\n",
      "a b c d e f g\n"
     ]
    }
   ],
   "source": [
    "# 문자열 관련 합수 : 문자열 오브젝트.upper(),오브젝트.lower()\n",
    "cat = \"a b c d e f g\"\n",
    "print(cat.upper())\n",
    "print(cat.lower())\n"
   ]
  },
  {
   "cell_type": "code",
   "execution_count": 1,
   "id": "147617a9",
   "metadata": {},
   "outputs": [
    {
     "ename": "SyntaxError",
     "evalue": "unexpected EOF while parsing (4229302764.py, line 2)",
     "output_type": "error",
     "traceback": [
      "\u001b[1;36m  Input \u001b[1;32mIn [1]\u001b[1;36m\u001b[0m\n\u001b[1;33m    print(\"asf/{}/\"(cat.strip)\u001b[0m\n\u001b[1;37m                              ^\u001b[0m\n\u001b[1;31mSyntaxError\u001b[0m\u001b[1;31m:\u001b[0m unexpected EOF while parsing\n"
     ]
    }
   ],
   "source": [
    "cat_3 = \" abcd   \"\n",
    "print(\"asf/{}/\"(cat.strip)\n"
   ]
  },
  {
   "cell_type": "code",
   "execution_count": 4,
   "id": "e44d4173",
   "metadata": {
    "scrolled": false
   },
   "outputs": [
    {
     "ename": "AttributeError",
     "evalue": "'str' object has no attribute 'isalnm'",
     "output_type": "error",
     "traceback": [
      "\u001b[1;31m---------------------------------------------------------------------------\u001b[0m",
      "\u001b[1;31mAttributeError\u001b[0m                            Traceback (most recent call last)",
      "Input \u001b[1;32mIn [4]\u001b[0m, in \u001b[0;36m<cell line: 3>\u001b[1;34m()\u001b[0m\n\u001b[0;32m      1\u001b[0m cat \u001b[38;5;241m=\u001b[39m (\u001b[38;5;124m'\u001b[39m\u001b[38;5;124m12345\u001b[39m\u001b[38;5;124m'\u001b[39m)\n\u001b[1;32m----> 3\u001b[0m \u001b[38;5;28mprint\u001b[39m(\u001b[38;5;124;43m\"\u001b[39;49m\u001b[38;5;124;43mcat\u001b[39;49m\u001b[38;5;124;43m\"\u001b[39;49m\u001b[38;5;241;43m.\u001b[39;49m\u001b[43misalnm\u001b[49m())\n",
      "\u001b[1;31mAttributeError\u001b[0m: 'str' object has no attribute 'isalnm'"
     ]
    }
   ],
   "source": [
    "cat = ('12345')\n",
    "\n",
    "print(\"cat\".isalnm())"
   ]
  },
  {
   "cell_type": "code",
   "execution_count": 28,
   "id": "f0da1d3b",
   "metadata": {},
   "outputs": [
    {
     "name": "stdout",
     "output_type": "stream",
     "text": [
      "b c d e\n",
      "나나 나나\n"
     ]
    }
   ],
   "source": [
    "#find(,rfind()\n",
    "b_str = \"a b c d e f\"\n",
    "c= \"바나나 나나바\"\n",
    "\n",
    "print(b_str[b_str.find('b'): b_str.rfind('e')+1])\n",
    "\n",
    "g=c[c.find('나'): c.rfind('나')+1]\n",
    "\n",
    "print(g)"
   ]
  },
  {
   "cell_type": "code",
   "execution_count": 32,
   "id": "62ed6a15",
   "metadata": {},
   "outputs": [
    {
     "name": "stdout",
     "output_type": "stream",
     "text": [
      "True\n"
     ]
    }
   ],
   "source": [
    "v = \"바나나 바나나 연필\"\n",
    "print('바' in v)"
   ]
  },
  {
   "cell_type": "code",
   "execution_count": 4,
   "id": "572823ef",
   "metadata": {},
   "outputs": [
    {
     "data": {
      "text/plain": [
       "'커피'"
      ]
     },
     "execution_count": 4,
     "metadata": {},
     "output_type": "execute_result"
    }
   ],
   "source": [
    "lv = \" 134823498239823589 커피 바나나 연필\"\n",
    "\n",
    "lv.split()[1]\n"
   ]
  },
  {
   "cell_type": "code",
   "execution_count": 8,
   "id": "acd73148",
   "metadata": {},
   "outputs": [
    {
     "ename": "IndexError",
     "evalue": "Replacement index 1 out of range for positional args tuple",
     "output_type": "error",
     "traceback": [
      "\u001b[1;31m---------------------------------------------------------------------------\u001b[0m",
      "\u001b[1;31mIndexError\u001b[0m                                Traceback (most recent call last)",
      "Input \u001b[1;32mIn [8]\u001b[0m, in \u001b[0;36m<cell line: 1>\u001b[1;34m()\u001b[0m\n\u001b[1;32m----> 1\u001b[0m \u001b[38;5;124;43m\"\u001b[39;49m\u001b[38;5;124;43m3 + \u001b[39;49m\u001b[38;5;132;43;01m{}\u001b[39;49;00m\u001b[38;5;124;43m 4 = \u001b[39;49m\u001b[38;5;132;43;01m{}\u001b[39;49;00m\u001b[38;5;124;43m\"\u001b[39;49m\u001b[38;5;241;43m.\u001b[39;49m\u001b[43mformat\u001b[49m\u001b[43m(\u001b[49m\u001b[38;5;241;43m3\u001b[39;49m\u001b[38;5;241;43m+\u001b[39;49m\u001b[38;5;241;43m4\u001b[39;49m\u001b[43m)\u001b[49m\n",
      "\u001b[1;31mIndexError\u001b[0m: Replacement index 1 out of range for positional args tuple"
     ]
    }
   ],
   "source": [
    "\"3 + 4 = {}\".format(3+4)"
   ]
  },
  {
   "cell_type": "code",
   "execution_count": 9,
   "id": "e4ef7e47",
   "metadata": {},
   "outputs": [
    {
     "data": {
      "text/plain": [
       "True"
      ]
     },
     "execution_count": 9,
     "metadata": {},
     "output_type": "execute_result"
    }
   ],
   "source": [
    "1==1"
   ]
  },
  {
   "cell_type": "code",
   "execution_count": 12,
   "id": "299a0139",
   "metadata": {},
   "outputs": [
    {
     "name": "stdout",
     "output_type": "stream",
     "text": [
      "True 츨략\n"
     ]
    }
   ],
   "source": [
    "if True:\n",
    "    print(\"True 츨략\")\n",
    "if False:\n",
    "    print(\"False 출력\")\n",
    "    "
   ]
  },
  {
   "cell_type": "code",
   "execution_count": 8,
   "id": "5cb77115",
   "metadata": {},
   "outputs": [
    {
     "name": "stdout",
     "output_type": "stream",
     "text": [
      "2022년 \n"
     ]
    }
   ],
   "source": [
    "import datetime\n",
    "\n",
    "now = datetime.datetime.now()\n",
    "\n",
    "print(\"{}년 \".format(now.year,))\n"
   ]
  },
  {
   "cell_type": "code",
   "execution_count": null,
   "id": "bff23e55",
   "metadata": {},
   "outputs": [],
   "source": []
  },
  {
   "cell_type": "code",
   "execution_count": null,
   "id": "1ec8870b",
   "metadata": {},
   "outputs": [],
   "source": [
    "x = input(\" : \")\n",
    "h = int(x)\n",
    "\n",
    "\n",
    "if h > 0 :\n",
    "    print(\" 숫자 \")\n",
    "else:\n",
    "    print(\"  문자  \")\n"
   ]
  },
  {
   "cell_type": "code",
   "execution_count": 1,
   "id": "4c6accbb",
   "metadata": {},
   "outputs": [
    {
     "ename": "NameError",
     "evalue": "name 'x' is not defined",
     "output_type": "error",
     "traceback": [
      "\u001b[1;31m---------------------------------------------------------------------------\u001b[0m",
      "\u001b[1;31mNameError\u001b[0m                                 Traceback (most recent call last)",
      "Input \u001b[1;32mIn [1]\u001b[0m, in \u001b[0;36m<cell line: 1>\u001b[1;34m()\u001b[0m\n\u001b[1;32m----> 1\u001b[0m x \u001b[38;5;241m=\u001b[39m \u001b[38;5;28minput\u001b[39m(\u001b[38;5;124m\"\u001b[39m\u001b[38;5;124m \u001b[39m\u001b[38;5;132;01m{}\u001b[39;00m\u001b[38;5;124m 이건은 \u001b[39m\u001b[38;5;124m\"\u001b[39m\u001b[38;5;241m.\u001b[39mformat(\u001b[43mx\u001b[49m))\n\u001b[0;32m      3\u001b[0m \u001b[38;5;28;01mif\u001b[39;00m x\u001b[38;5;241m.\u001b[39misnumeric() :\n\u001b[0;32m      4\u001b[0m     \u001b[38;5;28mprint\u001b[39m(\u001b[38;5;124m\"\u001b[39m\u001b[38;5;124m 숫자 \u001b[39m\u001b[38;5;124m\"\u001b[39m)\n",
      "\u001b[1;31mNameError\u001b[0m: name 'x' is not defined"
     ]
    }
   ],
   "source": [
    "x = input(\" {} 이건은 \".format(x))\n",
    "\n",
    "if x.isnumeric() :\n",
    "    print(\" 숫자 \")\n",
    "if not x.isnumeric() :  \n",
    "    print(\" 문자 \")\n",
    "    \n"
   ]
  },
  {
   "cell_type": "code",
   "execution_count": null,
   "id": "590713f0",
   "metadata": {},
   "outputs": [],
   "source": [
    "x=input(\"정수를 입력 하시오 : \")\n",
    "x_a = int(x)\n",
    "x_b = x_a %% 2\n",
    "\n",
    "print(x_b)\n",
    "\n",
    "\n",
    "if x_b == 0 :\n",
    "    print(\"짝\")\n",
    "    \n",
    "#if x_b == 1 :\n",
    "#    print(\"홀\")\n",
    "    \n",
    "else:\n",
    "    print(\"홀\")\n",
    "    \n",
    "\n",
    "\n"
   ]
  },
  {
   "cell_type": "code",
   "execution_count": 12,
   "id": "c3565ed6",
   "metadata": {},
   "outputs": [
    {
     "name": "stdout",
     "output_type": "stream",
     "text": [
      "입력4/2\n",
      "문자\n"
     ]
    }
   ],
   "source": [
    "a = input(\"입력\")\n",
    "\n",
    "\n",
    "if a.isdecimal():\n",
    "    print(\"숫자\")\n",
    "    a = int(a)\n",
    "    \n",
    "\n",
    "    \n",
    "    if a % 2 == 1:\n",
    "        print(\"홀\")\n",
    "    else:\n",
    "        print(\"짝\")\n",
    "    \n",
    "    \n",
    "else:\n",
    "    print(\"문자\")\n",
    "    \n",
    "    "
   ]
  },
  {
   "cell_type": "code",
   "execution_count": 13,
   "id": "0b872b4c",
   "metadata": {},
   "outputs": [
    {
     "data": {
      "text/plain": [
       "[12, 'test', True]"
      ]
     },
     "execution_count": 13,
     "metadata": {},
     "output_type": "execute_result"
    }
   ],
   "source": [
    "# 리스트 선언하기 :[요소 , ...]\n",
    "list_a = [12,'test', True, \"python pm\"]\n",
    "list_a"
   ]
  },
  {
   "cell_type": "code",
   "execution_count": 20,
   "id": "baeb7282",
   "metadata": {},
   "outputs": [
    {
     "name": "stdout",
     "output_type": "stream",
     "text": [
      "<class 'list'>\n",
      "test\n",
      "[12]\n"
     ]
    },
    {
     "ename": "NameError",
     "evalue": "name 'python' is not defined",
     "output_type": "error",
     "traceback": [
      "\u001b[1;31m---------------------------------------------------------------------------\u001b[0m",
      "\u001b[1;31mNameError\u001b[0m                                 Traceback (most recent call last)",
      "Input \u001b[1;32mIn [20]\u001b[0m, in \u001b[0;36m<cell line: 5>\u001b[1;34m()\u001b[0m\n\u001b[0;32m      3\u001b[0m \u001b[38;5;28mprint\u001b[39m(list_a[:\u001b[38;5;241m1\u001b[39m])\n\u001b[0;32m      4\u001b[0m \u001b[38;5;66;03m#print(list_a[] )\u001b[39;00m\n\u001b[1;32m----> 5\u001b[0m \u001b[38;5;28;01mif\u001b[39;00m list_a \u001b[38;5;129;01min\u001b[39;00m \u001b[43mpython\u001b[49m:\n\u001b[0;32m      6\u001b[0m     \u001b[38;5;28mprint\u001b[39m(\u001b[38;5;241m1\u001b[39m)\n",
      "\u001b[1;31mNameError\u001b[0m: name 'python' is not defined"
     ]
    }
   ],
   "source": [
    "print(type(list_a))\n",
    "print(list_a[1])\n",
    "print(list_a[:1])\n",
    "#print(list_a[] )\n",
    "\n",
    "\n",
    "if list_a in python:\n",
    "    print(1)"
   ]
  },
  {
   "cell_type": "code",
   "execution_count": 25,
   "id": "e4936263",
   "metadata": {},
   "outputs": [
    {
     "ename": "IndexError",
     "evalue": "list index out of range",
     "output_type": "error",
     "traceback": [
      "\u001b[1;31m---------------------------------------------------------------------------\u001b[0m",
      "\u001b[1;31mIndexError\u001b[0m                                Traceback (most recent call last)",
      "Input \u001b[1;32mIn [25]\u001b[0m, in \u001b[0;36m<cell line: 2>\u001b[1;34m()\u001b[0m\n\u001b[0;32m      1\u001b[0m list_b \u001b[38;5;241m=\u001b[39m [[\u001b[38;5;241m1\u001b[39m,\u001b[38;5;241m2\u001b[39m,\u001b[38;5;241m3\u001b[39m,], [\u001b[38;5;124m'\u001b[39m\u001b[38;5;124ma\u001b[39m\u001b[38;5;124m'\u001b[39m,\u001b[38;5;124m'\u001b[39m\u001b[38;5;124mb\u001b[39m\u001b[38;5;124m'\u001b[39m,\u001b[38;5;124m'\u001b[39m\u001b[38;5;124mc\u001b[39m\u001b[38;5;124m'\u001b[39m]]\n\u001b[1;32m----> 2\u001b[0m \u001b[43mlist_b\u001b[49m\u001b[43m \u001b[49m\u001b[43m[\u001b[49m\u001b[43m:\u001b[49m\u001b[38;5;241;43m1\u001b[39;49m\u001b[43m]\u001b[49m\u001b[43m[\u001b[49m\u001b[38;5;241;43m1\u001b[39;49m\u001b[43m]\u001b[49m\n",
      "\u001b[1;31mIndexError\u001b[0m: list index out of range"
     ]
    }
   ],
   "source": [
    "list_b = [[1,2,3,], ['a','b','c']]\n",
    "list_b [:1][1]"
   ]
  },
  {
   "cell_type": "code",
   "execution_count": null,
   "id": "e2811fde",
   "metadata": {},
   "outputs": [],
   "source": [
    "#리스트 연산 , 요소 추가\n"
   ]
  },
  {
   "cell_type": "code",
   "execution_count": 2,
   "id": "3f7ca1fe",
   "metadata": {},
   "outputs": [
    {
     "name": "stdout",
     "output_type": "stream",
     "text": [
      "[1, 2, 3, 'd']\n"
     ]
    }
   ],
   "source": [
    "list_b = [1,2,3,]\n",
    "list_a = ['a','b','c']\n",
    "\n",
    "list_b.append('d')\n",
    "\n",
    "print(list_b)\n",
    "\n",
    "\n",
    "\n"
   ]
  },
  {
   "cell_type": "code",
   "execution_count": 10,
   "id": "1c30310d",
   "metadata": {},
   "outputs": [
    {
     "name": "stdout",
     "output_type": "stream",
     "text": [
      "a:1\n",
      "b:2\n",
      "c:3\n",
      "d:4\n",
      "e:5\n",
      "['1', '2', '3', '4', '5']\n",
      "['1', '6', '3', '4', '5']\n"
     ]
    }
   ],
   "source": [
    "a = input('a:')\n",
    "b = input('b:')\n",
    "c = input('c:')\n",
    "d = input('d:')\n",
    "e = input('e:')\n",
    "\n",
    "f = [a,b,c,d,e]\n",
    "print(f)\n",
    "\n",
    "del f[1]\n",
    "\n",
    "f.insert(1,'6')\n",
    "\n",
    "print(f)\n",
    "\n",
    "\n"
   ]
  },
  {
   "cell_type": "code",
   "execution_count": null,
   "id": "301ee4e9",
   "metadata": {},
   "outputs": [],
   "source": [
    "#리스트 슬라이싱 리스트명[start : stop : step"
   ]
  },
  {
   "cell_type": "code",
   "execution_count": 13,
   "id": "9af97cc4",
   "metadata": {},
   "outputs": [
    {
     "name": "stdout",
     "output_type": "stream",
     "text": [
      "[9, 8, 7, 6, 5, 4, 3, 2, 1]\n",
      "[9, 7, 5, 3, 1]\n",
      "[1, 2, 3, 5, 6, 7, 8, 9]\n"
     ]
    }
   ],
   "source": [
    "a = [1,2,3,4,5,6,7,8,9]\n",
    "\n",
    "print(a[::-1])\n",
    "print(a[::-2])\n",
    "\n",
    "a.remove(4)\n",
    "\n",
    "print(a)\n",
    "\n",
    "a.clear()\n",
    "\n",
    "\n",
    "\n"
   ]
  },
  {
   "cell_type": "code",
   "execution_count": 14,
   "id": "03f4fd76",
   "metadata": {},
   "outputs": [
    {
     "name": "stdout",
     "output_type": "stream",
     "text": [
      "[9, 8, 7, 6, 5, 4, 3, 2, 1]\n",
      "[9, 7, 5, 3, 1]\n",
      "[1, 2, 3, 5, 6, 7, 8, 9]\n",
      "[]\n"
     ]
    }
   ],
   "source": [
    "a = [1,2,3,4,5,6,7,8,9]\n",
    "\n",
    "print(a[::-1])\n",
    "print(a[::-2])\n",
    "\n",
    "a.remove(4)\n",
    "\n",
    "print(a)\n",
    "\n",
    "a.clear()\n",
    "\n",
    "print(a)\n",
    "\n"
   ]
  },
  {
   "cell_type": "code",
   "execution_count": null,
   "id": "862d5684",
   "metadata": {},
   "outputs": [],
   "source": [
    "#리스트 자료 추가 append, onsert, extend\n",
    "            수정 리스트[위치]=값\n",
    "            삭제 del 리스트[위치] / .pop(위치) \n",
    "        "
   ]
  },
  {
   "cell_type": "code",
   "execution_count": 21,
   "id": "225c81c9",
   "metadata": {},
   "outputs": [
    {
     "name": "stdout",
     "output_type": "stream",
     "text": [
      "True\n",
      "False\n"
     ]
    }
   ],
   "source": [
    "a= [1,2,3,4,5,6,7,8,]\n",
    "\n",
    "b= (20 in a )\n",
    "c=(8 in a)\n",
    "print(c)\n",
    "print(b)"
   ]
  },
  {
   "cell_type": "code",
   "execution_count": null,
   "id": "9bfc5659",
   "metadata": {},
   "outputs": [],
   "source": [
    "for 반목문  :\n",
    "for 반복자 in 반복가능한 모든 자료\n"
   ]
  },
  {
   "cell_type": "code",
   "execution_count": 25,
   "id": "befad47a",
   "metadata": {},
   "outputs": [
    {
     "ename": "TypeError",
     "evalue": "int() argument must be a string, a bytes-like object or a number, not 'list'",
     "output_type": "error",
     "traceback": [
      "\u001b[1;31m---------------------------------------------------------------------------\u001b[0m",
      "\u001b[1;31mTypeError\u001b[0m                                 Traceback (most recent call last)",
      "Input \u001b[1;32mIn [25]\u001b[0m, in \u001b[0;36m<cell line: 3>\u001b[1;34m()\u001b[0m\n\u001b[0;32m      1\u001b[0m a\u001b[38;5;241m=\u001b[39m [\u001b[38;5;241m12\u001b[39m,\u001b[38;5;241m3\u001b[39m,\u001b[38;5;241m4\u001b[39m,\u001b[38;5;241m4\u001b[39m,\u001b[38;5;241m5\u001b[39m,\u001b[38;5;241m6\u001b[39m,\u001b[38;5;241m6\u001b[39m,\u001b[38;5;241m7\u001b[39m,\u001b[38;5;241m7\u001b[39m,\u001b[38;5;241m8\u001b[39m,\u001b[38;5;241m8\u001b[39m,\u001b[38;5;241m6\u001b[39m,\u001b[38;5;241m5\u001b[39m,\u001b[38;5;241m3\u001b[39m]\n\u001b[1;32m----> 3\u001b[0m a \u001b[38;5;241m=\u001b[39m \u001b[38;5;28;43mint\u001b[39;49m\u001b[43m(\u001b[49m\u001b[43ma\u001b[49m\u001b[43m)\u001b[49m\n\u001b[0;32m      5\u001b[0m \u001b[38;5;28;01mfor\u001b[39;00m b \u001b[38;5;129;01min\u001b[39;00m a:\n\u001b[0;32m      6\u001b[0m     b \u001b[38;5;241m=\u001b[39m \u001b[38;5;28mint\u001b[39m(b)\n",
      "\u001b[1;31mTypeError\u001b[0m: int() argument must be a string, a bytes-like object or a number, not 'list'"
     ]
    }
   ],
   "source": [
    "a= [12,3,4,4,5,6,6,7,7,8,8,6,5,3]\n",
    "\n",
    "a = int(a)\n",
    "\n",
    "for b in a:\n",
    "    b = int(b)\n",
    "    print(a+b)\n",
    "    "
   ]
  },
  {
   "cell_type": "code",
   "execution_count": 9,
   "id": "de062d10",
   "metadata": {},
   "outputs": [
    {
     "name": "stdout",
     "output_type": "stream",
     "text": [
      "\t==2==\n",
      "2*1=2\t2*2=4\t2*3=6\n",
      "2*4=8\t2*5=10\t2*6=12\n",
      "2*7=14\t2*8=16\t2*9=18\n",
      "\t==3==\n",
      "3*1=3\t3*2=6\t3*3=9\n",
      "3*4=12\t3*5=15\t3*6=18\n",
      "3*7=21\t3*8=24\t3*9=27\n",
      "\t==4==\n",
      "4*1=4\t4*2=8\t4*3=12\n",
      "4*4=16\t4*5=20\t4*6=24\n",
      "4*7=28\t4*8=32\t4*9=36\n",
      "\t==5==\n",
      "5*1=5\t5*2=10\t5*3=15\n",
      "5*4=20\t5*5=25\t5*6=30\n",
      "5*7=35\t5*8=40\t5*9=45\n",
      "\t==6==\n",
      "6*1=6\t6*2=12\t6*3=18\n",
      "6*4=24\t6*5=30\t6*6=36\n",
      "6*7=42\t6*8=48\t6*9=54\n",
      "\t==7==\n",
      "7*1=7\t7*2=14\t7*3=21\n",
      "7*4=28\t7*5=35\t7*6=42\n",
      "7*7=49\t7*8=56\t7*9=63\n",
      "\t==8==\n",
      "8*1=8\t8*2=16\t8*3=24\n",
      "8*4=32\t8*5=40\t8*6=48\n",
      "8*7=56\t8*8=64\t8*9=72\n"
     ]
    }
   ],
   "source": [
    "a= range(2,9)\n",
    "\n",
    "#b= range(2,10)\n",
    "b= [1,2,3,4,5,6,7,8,9]\n",
    "\n",
    "cnt=0\n",
    "\n",
    "for a_1 in a:\n",
    "    print(f\"\\t=={a_1}==\")\n",
    "    for b_1 in b:\n",
    "        \n",
    "        if cnt < 2:\n",
    "            \n",
    "            print(f\"{a_1}*{b_1}={b_1*a_1}\", end='\\t') \n",
    "            cnt += 1\n",
    "        else:\n",
    "            print(f\"{a_1}*{b_1}={b_1*a_1}\", end='\\n') \n",
    "            cnt = 0\n",
    "        \n",
    "        \n",
    "        "
   ]
  },
  {
   "cell_type": "code",
   "execution_count": null,
   "id": "57cc0ea8",
   "metadata": {},
   "outputs": [],
   "source": []
  }
 ],
 "metadata": {
  "kernelspec": {
   "display_name": "Python 3 (ipykernel)",
   "language": "python",
   "name": "python3"
  },
  "language_info": {
   "codemirror_mode": {
    "name": "ipython",
    "version": 3
   },
   "file_extension": ".py",
   "mimetype": "text/x-python",
   "name": "python",
   "nbconvert_exporter": "python",
   "pygments_lexer": "ipython3",
   "version": "3.9.12"
  }
 },
 "nbformat": 4,
 "nbformat_minor": 5
}
